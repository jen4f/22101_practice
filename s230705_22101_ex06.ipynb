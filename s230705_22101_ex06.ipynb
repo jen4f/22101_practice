{
 "cells": [
  {
   "cell_type": "markdown",
   "id": "a7105bb3",
   "metadata": {},
   "source": [
    "## L6: Exceptions and Bug Handling\n",
    "Excercises"
   ]
  },
  {
   "cell_type": "markdown",
   "id": "c1d3e69e",
   "metadata": {},
   "source": [
    "1\\. In the file dna.fsa is some DNA. Construct a program that finds possible translation starts :-)\n",
    "All proteins start with the amino acid methionine (at least when translating, Met might be removed in later processing states). Methionine is coded with ATG. The exercise is therefore; find the position of all ATG's in the sequence. The first position is 83 as humans count.\n",
    "In some organisms different start codons are possible. If you really want to, you can make the program handle those cases too."
   ]
  },
  {
   "cell_type": "code",
   "execution_count": 4,
   "id": "ecc2a6ce",
   "metadata": {},
   "outputs": [
    {
     "name": "stdout",
     "output_type": "stream",
     "text": [
      "Enter a start codon: ATG\n",
      "Enter the fasta file you want to use: dna.fsa\n",
      "\n",
      "The positions of all ATGs in the sequence from dna.fsa are:\n",
      "[83, 105, 272, 463, 584, 695, 751, 801, 804, 816, 981, 1053, 1087, 1215, 1270, 1327, 1411, 1489, 1526, 1580]\n"
     ]
    }
   ],
   "source": [
    "# psesudo code\n",
    "\"\"\"\n",
    "will be making a programme to handle cases for any start codon.\n",
    "remove the header and only work with the dna string. this will help with counting.\n",
    "initiate an empty list to keep track of all codon start positions.\n",
    "prompt user for start codon\n",
    "read the dna file\n",
    "    initate a counter to count the seq length.\n",
    "    initiate an empty string to record the seq itself as a string.\n",
    "    for each line in the dna file\n",
    "        for each char in each line\n",
    "           count the number of char\n",
    "           build up a string to record the file content.\n",
    "     if seq[i:i+(length of codon)] == \"codon\" to spot the codon, find out what i is.\n",
    "       append i to the list.\n",
    "     else:\n",
    "       pass\n",
    "\n",
    "display the list\n",
    "\n",
    "\"\"\"\n",
    "# code\n",
    "\n",
    "import os\n",
    "\n",
    "\n",
    "def main():\n",
    "    # typecasting input as str for later use\n",
    "    start_codon = str(input(\"Enter a start codon: \"))\n",
    "    position_list = []\n",
    "    file_name = input(\"Enter the fasta file you want to use: \")\n",
    "    put_header_away(file_name)\n",
    "    with open(f\"no_header_{file_name}\", \"r\") as infile:\n",
    "        seq_length = 0    # initate seq counter\n",
    "        seq = \"\"          # initiate empty string for seq\n",
    "        for line in infile:\n",
    "            for char in line.strip():\n",
    "                seq += char # make file content into a string\n",
    "    # i will give human count because range(seq_length) begins at 1\n",
    "    for i in range(len(seq)): \n",
    "        if seq[i:i+(len(\"ATG\"))] == start_codon:\n",
    "            # append the value of the index where the match occurs\n",
    "            position_list.append(i)    \n",
    "        else:\n",
    "            pass\n",
    "    if len(position_list) > 1:\n",
    "        s = \"s\"\n",
    "    else:\n",
    "        s = \"\"\n",
    "    print(f\"\\nThe positions of all {start_codon}{s} in the sequence from {file_name} are:\\n{position_list}\")\n",
    "\n",
    "\n",
    "def put_header_away(fastafile):\n",
    "    os.system(f\"tail -n +2 {fastafile} > no_header_{fastafile}\")\n",
    "    os.system(f\"head -n 1 {fastafile} > header_only_{fastafile}\")\n",
    "\n",
    "\n",
    "main()"
   ]
  },
  {
   "cell_type": "markdown",
   "id": "c52ce92b",
   "metadata": {},
   "source": [
    "2. Connecting to the previous exercise; Assuming that the first Met at position 83 is translation start, find the corresponding translation stop (which is the first one in frame). Stop codon is coded by TAA, TAG, or TGA. Remember that the stop codon has to be in the same reading frame as ATG. Notice: There are two ways to solving this exercise. The primitive way is to start at the position given. The more general and better way is to find the first ATG and then find the corresponding stop codon."
   ]
  },
  {
   "cell_type": "code",
   "execution_count": 8,
   "id": "1a8c1a49",
   "metadata": {},
   "outputs": [
    {
     "name": "stdout",
     "output_type": "stream",
     "text": [
      "Enter a start codon: ATG\n",
      "Enter the fasta file you want to use: dna.fsa\n",
      "[125, 129, 147, 173, 234, 319, 366, 450, 471, 481, 530, 581, 799, 802, 904, 947, 982, 1037, 1051, 1060, 1116, 1324, 1433, 1505, 1520, 1562, 1567]\n",
      "\n",
      "The stop codon corresponding to the first start codon is at position 125.\n"
     ]
    }
   ],
   "source": [
    "# pseudo code.\n",
    "\"\"\"\n",
    "Remove the header from the original file\n",
    "Create a string that only contains the sequence\n",
    "Prompt user for start codon\n",
    "Find the first start codon in the string\n",
    "From the first ATG's position\n",
    "Define reading frame of stop codon corresponding to the first start codon\n",
    "Find the first stop sequence occurs\n",
    "\"\"\"\n",
    "# code\n",
    "import os\n",
    "\n",
    "\n",
    "def main():\n",
    "    # typecasting input as str for later use\n",
    "    start_codon = str(input(\"Enter a start codon: \"))\n",
    "    # initiate empty list to keep track of start codons.\n",
    "    start_codon_positions = []\n",
    "    file_name = input(\"Enter the fasta file you want to use: \")\n",
    "    put_header_away(file_name)\n",
    "    with open(f\"no_header_{file_name}\", \"r\") as infile:\n",
    "        seq_length = 0    # initate seq counter\n",
    "        seq = \"\"          # initiate empty string for seq\n",
    "        for line in infile:\n",
    "            for char in line.strip():\n",
    "                seq += char # make file content into a string\n",
    "    # i will give human count because range(seq_length) begins at 1\n",
    "    for i in range(len(seq)): \n",
    "        if seq[i:i+(len(start_codon))] == start_codon:\n",
    "            # append the value of the index where the match occurs\n",
    "            start_codon_positions.append(i)    \n",
    "        else:\n",
    "            pass\n",
    "    # define reading frame\n",
    "    stop_codon_list = []\n",
    "    for j in range(start_codon_positions[0]+3, len(seq)):\n",
    "        if seq[j:j+3] == \"TAA\":\n",
    "            stop_codon_list.append(j)\n",
    "        elif seq[j:j+3] == \"TGA\":\n",
    "            stop_codon_list.append(j)\n",
    "        elif seq[j:j+3] == \"TAG\":\n",
    "            stop_codon_list.append(j)\n",
    "        else:\n",
    "            pass\n",
    "    # print for sanity check\n",
    "    print(stop_codon_list)\n",
    "\n",
    "    # the first stop codon would correspond with the first start codon.\n",
    "    print(f\"\\nThe stop codon corresponding to the first start codon is at position {stop_codon_list[0]}.\")\n",
    "\n",
    "\n",
    "def put_header_away(fastafile):\n",
    "    os.system(f\"tail -n +2 {fastafile} > no_header_{fastafile}\")\n",
    "    os.system(f\"head -n 1 {fastafile} > header_only{fastafile}\")\n",
    "\n",
    "\n",
    "main()"
   ]
  },
  {
   "cell_type": "markdown",
   "id": "0d2ce9d9",
   "metadata": {},
   "source": [
    "3. Make a program that asks for an organism, like 'HUMAN' or 'RAT'. The program should then count the number of lines/times a SwissProt identifier in the file orphans.sp is present with said organism, ie. PARG_HUMAN and LUM_HUMAN are the two first for HUMAN. Hint: you should probably think twice in this exercise."
   ]
  },
  {
   "cell_type": "code",
   "execution_count": 9,
   "id": "af4e294f",
   "metadata": {},
   "outputs": [
    {
     "name": "stdout",
     "output_type": "stream",
     "text": [
      "Please enter name of organism: human\n",
      "The organism HUMAN occurs 207 times in orphans.sp\n"
     ]
    }
   ],
   "source": [
    "# pseudo code\n",
    "\"\"\"\n",
    "prompt user for an organism name in all caps\n",
    "initiate organism counter as 0\n",
    "open orphans.sp\n",
    "    for line in orphans.sp\n",
    "        if organism in line\n",
    "            counter +=1\n",
    "display the value of counter, i.e. total number of organisms.\n",
    "\"\"\"\n",
    "# code\n",
    "organism = str(input(\"Please enter name of organism: \")).upper()\n",
    "counter = 0\n",
    "with open(\"orphans.sp\", \"r\") as infile:\n",
    "    for line in infile:\n",
    "        if organism in line.strip():\n",
    "            counter += 1\n",
    "\n",
    "print(f\"The organism {organism} occurs {counter} times in orphans.sp\")"
   ]
  },
  {
   "cell_type": "markdown",
   "id": "07885c3a",
   "metadata": {},
   "source": [
    "4. Count the ATCG's in the sequence in dna.fsa. Display the percentage of ATCG's with 2 digits after the dot. Make it look really structured. Just to be exceedingly clear; the percentage of A's is 100*(NumberOfA/LengthOfSequence)."
   ]
  },
  {
   "cell_type": "code",
   "execution_count": 10,
   "id": "8b60d976",
   "metadata": {},
   "outputs": [
    {
     "name": "stdout",
     "output_type": "stream",
     "text": [
      "Enter name of file to use for sequence: dna.fsa\n",
      "G has 30.02 occurances in dna.fsa.\n",
      "A has 21.30 occurances in dna.fsa.\n",
      "T has 19.37 occurances in dna.fsa.\n",
      "C has 29.06 occurances in dna.fsa.\n"
     ]
    }
   ],
   "source": [
    "# pseudo code\n",
    "\"\"\"\n",
    "remove the header line of dna.fsa file\n",
    "initiate an emptry string for the sequence\n",
    "initiate an emptry dictionary to count ACGT\n",
    "open the dna.fsa file and read each line\n",
    "    for each line\n",
    "        for each character\n",
    "            append it to the empty string\n",
    "count numebr of ATCG appearing in seq using a dictionary.\n",
    "length of the sequence in dna.fsa is the seq string length\n",
    "find out the result for number of a / length of sequence\n",
    "display the result as a percentage\n",
    "\"\"\"\n",
    "# code\n",
    "import os\n",
    "\n",
    "\n",
    "def main():\n",
    "    file_name = input(\"Enter name of file to use for sequence: \")\n",
    "    put_header_away(file_name)\n",
    "    # find out the length of the sequence\n",
    "    seq = \"\"\n",
    "    nucleotide_count = {}\n",
    "    with open(f\"no_header_{file_name}\", \"r\") as infile:\n",
    "        for line in infile:\n",
    "            for char in line.strip(): #.strip() removes any \\n from being counted later.\n",
    "                seq += char\n",
    "\n",
    "    # count total of each nucleotide in seq\n",
    "    nucleotide_counts = {}\n",
    "    for nucleotide in seq:\n",
    "        if nucleotide not in nucleotide_counts:\n",
    "            nucleotide_counts[nucleotide] = 0\n",
    "        else:\n",
    "            nucleotide_counts[nucleotide] +=1\n",
    "    \n",
    "    # find percentage of each nucleotide in seq\n",
    "    nucleotide_percentage = {}\n",
    "    for key in nucleotide_counts.keys():\n",
    "        if key not in nucleotide_percentage:\n",
    "            nucleotide_percentage[key] = 100 * (nucleotide_counts[key] / len(seq))\n",
    "        else:\n",
    "            pass\n",
    "    \n",
    "    for i in nucleotide_percentage:\n",
    "        nucleotide_percentage[i] = \"{0:.2f}\".format(nucleotide_percentage[i])\n",
    "        print(f\"{i} has {nucleotide_percentage[i]} occurances in {file_name}.\")\n",
    "\n",
    "\n",
    "def put_header_away(fastafile):\n",
    "    os.system(f\"tail -n +2 {fastafile} > no_header_{fastafile}\")\n",
    "    os.system(f\"head -n 1 {fastafile} > header_only_{fastafile}\")\n",
    "\n",
    "main()"
   ]
  },
  {
   "cell_type": "markdown",
   "id": "8bb7272c",
   "metadata": {},
   "source": [
    "5. Playing time again. Make the guessing program from last week count how many attempts it needed to guess the number and print it when done guessing. It must be able to detect if you lie (and say so, of course). Also, if you haven't done it before, make the program guess in the fewest possible guesses (an example of 'binary search'). This is what most people naturally do by themselves when they play the game. You 'just' have to do it in the program. There is a system, a method - find it."
   ]
  },
  {
   "cell_type": "code",
   "execution_count": 11,
   "id": "acf33837",
   "metadata": {},
   "outputs": [
    {
     "name": "stdout",
     "output_type": "stream",
     "text": [
      "Think of a number between 1-10..., write it here: 9\n",
      "Is your number 5? (yes/no) no\n",
      "Is your number higher or lower than 5? (higher/lower) higher\n",
      "Is your number 7? (yes/no) no\n",
      "Is your number higher or lower than 7? (higher/lower) higher\n",
      "Is your number 8? (yes/no) no\n",
      "Is your number higher or lower than 8? (higher/lower) higher\n",
      "Is your number 9? (yes/no) yes\n",
      "After guessing 4 times, we know that your number is 9 :)!\n"
     ]
    }
   ],
   "source": [
    "# pseudo code\n",
    "\"\"\"\n",
    "refer to L04 q4 for the guessing question.\n",
    "initiate a counter variable to 0\n",
    "to detect if the user lies,\n",
    "need a line to compare the input with the current guess.\n",
    "    if lying, then display(\"you lied in your response.\")\n",
    "counter +=1 after each round of our guessing\n",
    "\n",
    "guessing counts restarts from 0 eachtime the user lies.\n",
    "\"\"\"\n",
    "# code\n",
    "target = int(input(\"Think of a number between 1-10..., write it here: \"))\n",
    "guess = 5    # 5 is half way between 1 and 10.\n",
    "counter = 0\n",
    "\n",
    "while True:\n",
    "    response = input(f\"Is your number {guess}? (yes/no) \")\n",
    "    if response == \"yes\" and guess == target:    # checking for honesty\n",
    "        counter += 1 # even if we didn't need to \"guess\", this will count the default guess as one guess.\n",
    "        break\n",
    "    elif response == \"no\" and guess != target:\n",
    "        evaluation = input(f\"Is your number higher or lower than {guess}? (higher/lower) \")\n",
    "        if evaluation == \"higher\" and guess < target:\n",
    "            if (target - guess) == 1:\n",
    "                guess += 1\n",
    "            else:\n",
    "                guess += round((target - guess)/2)\n",
    "            counter += 1\n",
    "        elif evaluation == \"lower\" and guess > target:\n",
    "            if (guess - target) == 1:\n",
    "                guess -= 1\n",
    "            else:\n",
    "                guess -= round((guess - target)/2)\n",
    "            counter += 1\n",
    "        elif (evaluation == \"higher\" and guess > target) or (evaluation == \"lower\" and guess < target):\n",
    "            print(\"You lied in your response...we are going to start over.\")\n",
    "        else:\n",
    "            pass\n",
    "    elif (response == \"yes\" and guess != target) or (response == \"no\" and guess == target):\n",
    "        print(\"You lied in your response...we are going to start over.\")\n",
    "    else:\n",
    "        pass\n",
    "\n",
    "print(f\"After guessing {counter} times, we know that your number is {guess} :)!\")"
   ]
  }
 ],
 "metadata": {
  "kernelspec": {
   "display_name": "Python 3 (ipykernel)",
   "language": "python",
   "name": "python3"
  },
  "language_info": {
   "codemirror_mode": {
    "name": "ipython",
    "version": 3
   },
   "file_extension": ".py",
   "mimetype": "text/x-python",
   "name": "python",
   "nbconvert_exporter": "python",
   "pygments_lexer": "ipython3",
   "version": "3.9.7"
  }
 },
 "nbformat": 4,
 "nbformat_minor": 5
}
