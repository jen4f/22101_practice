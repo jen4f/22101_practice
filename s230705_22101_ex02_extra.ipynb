{
 "cells": [
  {
   "cell_type": "markdown",
   "id": "8cb96f16",
   "metadata": {},
   "source": [
    "## L2: Python Basics\n",
    "Exercises for extra practice"
   ]
  },
  {
   "cell_type": "markdown",
   "id": "a8557f12",
   "metadata": {},
   "source": [
    "1\\. Ask for a word 4 times. Display all the words afterwards, one word per line."
   ]
  },
  {
   "cell_type": "code",
   "execution_count": 3,
   "id": "0b22a1de",
   "metadata": {},
   "outputs": [
    {
     "name": "stdout",
     "output_type": "stream",
     "text": [
      "Enter a word: hi\n",
      "Enter a word: because\n",
      "Enter a word: ritual\n",
      "Enter a word: cool\n",
      "\n",
      "hi\n",
      "because\n",
      "ritual\n",
      "cool\n"
     ]
    }
   ],
   "source": [
    "# initiate an empty list for words:\n",
    "words = []\n",
    "# ask for a word four times\n",
    "while len(words) < 4:\n",
    "    word = input(\"Enter a word: \")\n",
    "    words.append(word)\n",
    "# line break\n",
    "print()\n",
    "# display all the words afterwards, one word per line\n",
    "for word in words:\n",
    "    print(word)"
   ]
  },
  {
   "cell_type": "markdown",
   "id": "1203ebff",
   "metadata": {},
   "source": [
    "2\\. Ask for a word 7 times, Display all the words afterwards on one line. "
   ]
  },
  {
   "cell_type": "code",
   "execution_count": 5,
   "id": "26a3c40d",
   "metadata": {},
   "outputs": [
    {
     "name": "stdout",
     "output_type": "stream",
     "text": [
      "Enter a word: a\n",
      "Enter a word: b\n",
      "Enter a word: c\n",
      "Enter a word: d\n",
      "Enter a word: e\n",
      "Enter a word: f\n",
      "Enter a word: g\n",
      "\n",
      "a b c d e f g "
     ]
    }
   ],
   "source": [
    "# initiate an empty list for words:\n",
    "words = []\n",
    "# ask for a word seven times\n",
    "while len(words) < 7:\n",
    "    word = input(\"Enter a word: \")\n",
    "    words.append(word)\n",
    "# line break\n",
    "print()\n",
    "# display all the words afterwards on one line\n",
    "for word in words:\n",
    "    print(word, end = \" \")"
   ]
  },
  {
   "cell_type": "markdown",
   "id": "ba16967e",
   "metadata": {},
   "source": [
    "3\\. In a loop ask for words. Add them together in the order given so they form a (maybe meaningless) sentence. When you do not enter anything (i.e. just hit the enter key), you stop the loop and display the sentence."
   ]
  },
  {
   "cell_type": "code",
   "execution_count": 15,
   "id": "31902d61",
   "metadata": {},
   "outputs": [
    {
     "name": "stdout",
     "output_type": "stream",
     "text": [
      "Enter a word: flowering\n",
      "Enter a word: hand\n",
      "Enter a word: balm\n",
      "Enter a word: \n",
      "\n",
      "flowering hand balm "
     ]
    }
   ],
   "source": [
    "# initiate an empty list for words:\n",
    "words = []\n",
    "# keep asking for a word unless nothing is entered\n",
    "while True:\n",
    "    word = input(\"Enter a word: \")\n",
    "    if len(word)!=0:\n",
    "        words.append(word)\n",
    "    else:\n",
    "        break\n",
    "# line break\n",
    "print()\n",
    "# display all the words to form a sentence.\n",
    "for word in words:\n",
    "    print(word, end = \" \")"
   ]
  },
  {
   "cell_type": "markdown",
   "id": "dc73e9e5",
   "metadata": {},
   "source": [
    "4\\. In a loop ask for numbers using the input function. Add the numbers together as they are entered. End the loop when you write STOP instead of a number. Display the sum of the numbers.\n",
    "Hint: Check for STOP before you try typecast(convert) the number."
   ]
  },
  {
   "cell_type": "code",
   "execution_count": 19,
   "id": "8472c14c",
   "metadata": {},
   "outputs": [
    {
     "name": "stdout",
     "output_type": "stream",
     "text": [
      "Enter a number: 2\n",
      "Enter a number: 4\n",
      "Enter a number: 6\n",
      "Enter a number: 8\n",
      "Enter a number: 3\n",
      "Enter a number: STOP\n",
      "23\n"
     ]
    }
   ],
   "source": [
    "# initiate an empty list for numbers:\n",
    "numbers = []\n",
    "# keep asking for a number:\n",
    "while True:\n",
    "    number = input(\"Enter a number: \")\n",
    "    # check for STOP before typecast\n",
    "    if number == \"STOP\":\n",
    "        break\n",
    "    else:\n",
    "        number = int(number)\n",
    "        numbers.append(number)\n",
    "# initiate the variable for result at 0\n",
    "result = 0\n",
    "# add the numbers together\n",
    "for n in numbers:\n",
    "    result += n\n",
    "\n",
    "# display the resutl\n",
    "print(result)"
   ]
  },
  {
   "cell_type": "markdown",
   "id": "eb07b161",
   "metadata": {},
   "source": [
    "5\\. Continue to ask for numbers until you don't enter anything. Then display all the numbers and their sum. Example: The numbers 1, 2, & 3 is entered and \"1 + 2 + 3 = 6\" is displayed. Hint: You need use the numbers both as string type and number type."
   ]
  },
  {
   "cell_type": "code",
   "execution_count": 50,
   "id": "7b221b5a",
   "metadata": {},
   "outputs": [
    {
     "name": "stdout",
     "output_type": "stream",
     "text": [
      "Enter a number: 4\n",
      "Enter a number: 5\n",
      "Enter a number: 6\n",
      "Enter a number: \n",
      "4 + 5 + 6 = 15"
     ]
    }
   ],
   "source": [
    "# initiate an empty list of numbers\n",
    "numbers = []\n",
    "while True:\n",
    "    number = input(\"Enter a number: \")\n",
    "    # check for STOP before typecast\n",
    "    if len(number)==0:\n",
    "        break\n",
    "    else:\n",
    "        number = int(number)\n",
    "        numbers.append(number)\n",
    "# initiate the variable for result at 0\n",
    "result = 0\n",
    "# add the numbers together\n",
    "for n in numbers:\n",
    "    result += n\n",
    "# create output variable:\n",
    "numbers_str = []\n",
    "for n in numbers:\n",
    "    numbers_str.append(str(n))\n",
    "    numbers_str.append(\" + \")\n",
    "# change the ending of the variable\n",
    "numbers_str[-1] = \" = \" + str(result)\n",
    "# display the output\n",
    "for _ in numbers_str:\n",
    "    print(_, end = \"\")"
   ]
  }
 ],
 "metadata": {
  "kernelspec": {
   "display_name": "Python 3 (ipykernel)",
   "language": "python",
   "name": "python3"
  },
  "language_info": {
   "codemirror_mode": {
    "name": "ipython",
    "version": 3
   },
   "file_extension": ".py",
   "mimetype": "text/x-python",
   "name": "python",
   "nbconvert_exporter": "python",
   "pygments_lexer": "ipython3",
   "version": "3.9.7"
  }
 },
 "nbformat": 4,
 "nbformat_minor": 5
}
