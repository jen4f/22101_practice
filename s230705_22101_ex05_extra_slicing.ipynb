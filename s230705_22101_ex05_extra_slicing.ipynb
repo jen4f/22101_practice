{
 "cells": [
  {
   "cell_type": "markdown",
   "id": "823804db",
   "metadata": {},
   "source": [
    "## L5: Python Input-Output\n",
    "Exercises to Practice Slicing!"
   ]
  },
  {
   "cell_type": "markdown",
   "id": "db74ce1e",
   "metadata": {},
   "source": [
    "1\\. Input a line from the keyboard. Count the number of stars * on the line. Display. Example: DG\\*GDG\\*GSD\\*GG\n",
    "Star count: 3\n"
   ]
  },
  {
   "cell_type": "code",
   "execution_count": 11,
   "id": "05335188",
   "metadata": {},
   "outputs": [
    {
     "name": "stdout",
     "output_type": "stream",
     "text": [
      "Enter a string with at least one * in it, for example, DG*GDG*GSD*GG: DG*GDG*GSD*GG\n",
      "There are 3 *s in the string\n"
     ]
    }
   ],
   "source": [
    "# prompt user for input\n",
    "string1 = input(\"Enter a string with at least one * in it, for example, DG*GDG*GSD*GG: \")\n",
    "\n",
    "# initate counter variable\n",
    "counter = 0\n",
    "\n",
    "for char in string1:\n",
    "    if char == \"*\": counter += 1\n",
    "\n",
    "# display\n",
    "\n",
    "if counter > 1:\n",
    "    plural = \"s\"\n",
    "    are = \"are\"\n",
    "else:\n",
    "    plural = \"\"\n",
    "    are = \"is\"\n",
    "\n",
    "print(f\"There {are} {counter} *{plural} in the string\")"
   ]
  },
  {
   "cell_type": "markdown",
   "id": "d64bd9b7",
   "metadata": {},
   "source": [
    "2\\. Input a line from the keyboard. Now print the characters on the line vertically, i.e. one char per line downwards. Example: ABC<br>\n",
    "A<br>\n",
    "B<br>\n",
    "C<br>"
   ]
  },
  {
   "cell_type": "code",
   "execution_count": 12,
   "id": "5e36a069",
   "metadata": {},
   "outputs": [
    {
     "name": "stdout",
     "output_type": "stream",
     "text": [
      "Enter a string: ABC\n",
      "A\n",
      "B\n",
      "C\n"
     ]
    }
   ],
   "source": [
    "# prompt user for input\n",
    "string2 = input(\"Enter a string: \")\n",
    "\n",
    "# use for loop to print one char per line\n",
    "for char in string2:\n",
    "    print(char)"
   ]
  },
  {
   "cell_type": "markdown",
   "id": "28c72c0f",
   "metadata": {},
   "source": [
    "3\\. Input a line from the keyboard. Now print 2 characters on the line vertically, i.e. two char per line downwards. Advance 1 char at a time. Example: ABC\n",
    "AB\n",
    "BC"
   ]
  },
  {
   "cell_type": "code",
   "execution_count": 23,
   "id": "946ebd20",
   "metadata": {},
   "outputs": [
    {
     "name": "stdout",
     "output_type": "stream",
     "text": [
      "Enter a string: ABC\n",
      "AB\n",
      "BC\n"
     ]
    }
   ],
   "source": [
    "# prompt user for input\n",
    "string3 = input(\"Enter a string: \")\n",
    "\n",
    "# displaying the current index and the next index\n",
    "i = 0         # initiate index from 0\n",
    "while i != len(string3) - 1:\n",
    "    print(string3[i] + string3[i+1])\n",
    "    i += 1    # update index value"
   ]
  },
  {
   "cell_type": "markdown",
   "id": "2f54dfb7",
   "metadata": {},
   "source": [
    "4\\. Input a line from the keyboard. Now print 2 characters on the line vertically, i.e. two char per line downwards. Advance 2 chars at a time. If there is a leftover char at the end of the string, print it. Example: ABCDE<br>\n",
    "AB<br>\n",
    "CD<br>\n",
    "E"
   ]
  },
  {
   "cell_type": "code",
   "execution_count": 34,
   "id": "6e57448a",
   "metadata": {},
   "outputs": [
    {
     "name": "stdout",
     "output_type": "stream",
     "text": [
      "Enter a string: ABCDE\n",
      "AB\n",
      "CD\n",
      "E\n"
     ]
    }
   ],
   "source": [
    "# prompt user for input\n",
    "string4 = input(\"Enter a string: \")\n",
    "\n",
    "# display the current index and the next index number on one line\n",
    "i = 0                       # initiate index counter                 \n",
    "while i < len(string4):    \n",
    "    print(string4[i:i+2])    # it will still print correctly when we overshoot where the index ends.\n",
    "    i += 2                   # increase index value by 2, start the next line we print from there"
   ]
  },
  {
   "cell_type": "markdown",
   "id": "4aa1f476",
   "metadata": {},
   "source": [
    "5\\. Input a line from the keyboard. Now print 2 characters on the line vertically, i.e. two char per line downwards. Advance 2 chars at a time. If there is leftover char at the end of the string, do NOT print it. Example: ABCDE<br>\n",
    "AB<br>\n",
    "CD<br>\n"
   ]
  },
  {
   "cell_type": "code",
   "execution_count": 41,
   "id": "81e84c59",
   "metadata": {},
   "outputs": [
    {
     "name": "stdout",
     "output_type": "stream",
     "text": [
      "Enter a string: ABCDE\n",
      "AB\n",
      "CD\n"
     ]
    }
   ],
   "source": [
    "# prompt user for input\n",
    "string5 = input(\"Enter a string: \")\n",
    "\n",
    "\n",
    "# display the current index and the next index number on one line\n",
    "i = 0                               # initiate index counter\n",
    "while i != len(string5) - 1:        # stop before the last char\n",
    "    # concatenating instead\n",
    "    print(string5[i]+string5[i+1])  \n",
    "    i += 2                          # update index to start printing next line"
   ]
  },
  {
   "cell_type": "markdown",
   "id": "d34fa6bf",
   "metadata": {},
   "source": [
    "6\\. Input a DNA line from the keyboard. Now print 3 characters (a codon) on the line vertically, i.e. three char per line downwards. Advance 3 chars at a time. If there is a leftover DNA that can not constitute a codon at the end of the string, do NOT print it. Example: TACCATCGATCAG<br>\n",
    "TAC<br>\n",
    "CAT<br>\n",
    "CGA<br>\n",
    "TCA<br>"
   ]
  },
  {
   "cell_type": "code",
   "execution_count": 62,
   "id": "25bc8ebf",
   "metadata": {},
   "outputs": [
    {
     "name": "stdout",
     "output_type": "stream",
     "text": [
      "Enter a line of DNA: TACCATCGATCAG\n",
      "TAC\n",
      "CAT\n",
      "CGA\n",
      "TCA\n"
     ]
    }
   ],
   "source": [
    "# prompt user for input\n",
    "dna1 = input(\"Enter a line of DNA: \")\n",
    "\n",
    "# display three at a time\n",
    "i = 0\n",
    "while i != len(dna1) -1:\n",
    "    print(dna1[i:i+2]+dna1[i+2])        # take note that the final index is i+2.\n",
    "    i += 3                              # update index so the next line prints at the correct position."
   ]
  },
  {
   "cell_type": "markdown",
   "id": "0db16ac3",
   "metadata": {},
   "source": [
    "7\\. Input a sentence (a line) from the keyboard. Write every word on its own line. Example: The answer is 42.<br>\n",
    "The<br>\n",
    "answer<br>\n",
    "is<br>\n",
    "42.<br>"
   ]
  },
  {
   "cell_type": "code",
   "execution_count": 63,
   "id": "f30d73b2",
   "metadata": {},
   "outputs": [
    {
     "name": "stdout",
     "output_type": "stream",
     "text": [
      "Enter a line: The answer is 42.\n",
      "The\n",
      "answer\n",
      "is\n",
      "42.\n"
     ]
    }
   ],
   "source": [
    "# prompt user for line\n",
    "string7 = input(\"Enter a line: \")\n",
    "for word in string7.split():\n",
    "    print(word)"
   ]
  }
 ],
 "metadata": {
  "kernelspec": {
   "display_name": "Python 3 (ipykernel)",
   "language": "python",
   "name": "python3"
  },
  "language_info": {
   "codemirror_mode": {
    "name": "ipython",
    "version": 3
   },
   "file_extension": ".py",
   "mimetype": "text/x-python",
   "name": "python",
   "nbconvert_exporter": "python",
   "pygments_lexer": "ipython3",
   "version": "3.9.7"
  }
 },
 "nbformat": 4,
 "nbformat_minor": 5
}
