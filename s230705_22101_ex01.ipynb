{
 "cells": [
  {
   "cell_type": "markdown",
   "id": "2bf3d471",
   "metadata": {},
   "source": [
    "## Jennifer\n",
    "I want to learn basic python through this course"
   ]
  },
  {
   "cell_type": "code",
   "execution_count": null,
   "id": "fe63d400",
   "metadata": {},
   "outputs": [],
   "source": [
    "60 * 24 * 365 * 24"
   ]
  },
  {
   "cell_type": "code",
   "execution_count": null,
   "id": "e5b175da",
   "metadata": {},
   "outputs": [],
   "source": [
    "name = input(\"name:\")\n",
    "age = input(\"age:\")\n",
    "print()\n",
    "print(name, age)"
   ]
  },
  {
   "cell_type": "code",
   "execution_count": 1,
   "id": "0ad6d369",
   "metadata": {},
   "outputs": [
    {
     "name": "stdout",
     "output_type": "stream",
     "text": [
      "Enter number of siblings: 7\n",
      "You have 7 siblings!\n"
     ]
    }
   ],
   "source": [
    "n_siblings = input(\"Enter number of siblings: \")\n",
    "print(f\"You have {n_siblings} siblings!\")"
   ]
  },
  {
   "cell_type": "code",
   "execution_count": 22,
   "id": "aeea32b3",
   "metadata": {},
   "outputs": [
    {
     "name": "stdout",
     "output_type": "stream",
     "text": [
      "old pond\n",
      "frog leaps in\n",
      "water's sound\n",
      "\n",
      "by Matsuo Bashō\n"
     ]
    }
   ],
   "source": [
    "short_poem =\"\"\"old pond\n",
    "frog leaps in\n",
    "water's sound\n",
    "\"\"\"\n",
    "\n",
    "author = \"Matsuo Bashō\"\n",
    "\n",
    "print(short_poem + \"\\nby \"+ author)"
   ]
  },
  {
   "cell_type": "markdown",
   "id": "aece029a",
   "metadata": {},
   "source": [
    "# Header 1"
   ]
  },
  {
   "cell_type": "markdown",
   "id": "644a6d85",
   "metadata": {},
   "source": [
    "## Header 2"
   ]
  },
  {
   "cell_type": "markdown",
   "id": "4ec0a338",
   "metadata": {},
   "source": [
    "### Header 3"
   ]
  },
  {
   "cell_type": "markdown",
   "id": "35215eef",
   "metadata": {},
   "source": [
    "#### Header 4"
   ]
  },
  {
   "cell_type": "markdown",
   "id": "5ff2bc0b",
   "metadata": {},
   "source": [
    "##### Header 5"
   ]
  },
  {
   "cell_type": "markdown",
   "id": "21f68f66",
   "metadata": {},
   "source": [
    "*italics*\n",
    "_italics_"
   ]
  },
  {
   "cell_type": "markdown",
   "id": "ecbc7127",
   "metadata": {},
   "source": [
    "\\*literal asterisks\\*"
   ]
  },
  {
   "cell_type": "markdown",
   "id": "b75d789d",
   "metadata": {},
   "source": [
    "**bold**\n",
    "__bold__"
   ]
  },
  {
   "cell_type": "markdown",
   "id": "345c8f68",
   "metadata": {},
   "source": [
    "~~strikethrough~~"
   ]
  },
  {
   "cell_type": "markdown",
   "id": "0dd05377",
   "metadata": {},
   "source": [
    "1. First item\n",
    "2. Second item\n",
    " 1. Subitem"
   ]
  },
  {
   "cell_type": "markdown",
   "id": "96cd8a73",
   "metadata": {},
   "source": [
    "* Item 1  \n",
    "  Indent\n",
    "- Item 2\n",
    "    - Item 3"
   ]
  },
  {
   "cell_type": "markdown",
   "id": "27fd88a2",
   "metadata": {},
   "source": [
    "- [x] Done\n",
    "- [] To do"
   ]
  },
  {
   "cell_type": "markdown",
   "id": "5b499009",
   "metadata": {},
   "source": [
    "A\n",
    "Line  \n",
    "Break"
   ]
  },
  {
   "cell_type": "markdown",
   "id": "3be7a3a2",
   "metadata": {},
   "source": [
    "---\n",
    "* * *"
   ]
  },
  {
   "cell_type": "markdown",
   "id": "21555483",
   "metadata": {},
   "source": [
    "<a id=\"anchor\"></a>\n",
    "[Go to anchor](#anchor)\n",
    "\n",
    "# Top Header\n",
    "[Go to header](#Top-Header)"
   ]
  },
  {
   "cell_type": "markdown",
   "id": "82c69bf7",
   "metadata": {},
   "source": [
    "https://sqlbak.com\n",
    "\n",
    "[Link](https://sqlbak.com \"optional title\")\n",
    " \n",
    "\n",
    "[Click Here][id]\n",
    "\n",
    "[id]:https://sqlbak.com"
   ]
  },
  {
   "cell_type": "markdown",
   "id": "7b27eab3",
   "metadata": {},
   "source": [
    ">blockquote text"
   ]
  },
  {
   "cell_type": "markdown",
   "id": "9a2d35d5",
   "metadata": {},
   "source": [
    "```python\n",
    "print('hello');\n",
    "```\n",
    "`inline_code();`"
   ]
  },
  {
   "cell_type": "markdown",
   "id": "5b701db0",
   "metadata": {},
   "source": [
    "|Left  |Center|Right|\n",
    "|:-----|:----:|----:|\n",
    "|1     |A     |C    |\n",
    "|2     |B     |D    |"
   ]
  },
  {
   "cell_type": "markdown",
   "id": "c2d1ee4a",
   "metadata": {},
   "source": [
    "![alt text](logo.png \"Title\")\n",
    "\n",
    "![][id]\n",
    "[id]:logo.png \"Title\""
   ]
  },
  {
   "cell_type": "markdown",
   "id": "ddbb325f",
   "metadata": {},
   "source": [
    "$$\\sqrt{k}$$\n",
    "Inline: $\\sqrt{k}$"
   ]
  },
  {
   "cell_type": "markdown",
   "id": "480c14f3",
   "metadata": {},
   "source": [
    "[![Img Alt Text](http://img.youtube.com/vi/ aZCXOw707nc/0.jpg)](https://youtu.be/aZCXOw707nc \"Video Title\")"
   ]
  }
 ],
 "metadata": {
  "kernelspec": {
   "display_name": "Python 3 (ipykernel)",
   "language": "python",
   "name": "python3"
  },
  "language_info": {
   "codemirror_mode": {
    "name": "ipython",
    "version": 3
   },
   "file_extension": ".py",
   "mimetype": "text/x-python",
   "name": "python",
   "nbconvert_exporter": "python",
   "pygments_lexer": "ipython3",
   "version": "3.9.7"
  }
 },
 "nbformat": 4,
 "nbformat_minor": 5
}
