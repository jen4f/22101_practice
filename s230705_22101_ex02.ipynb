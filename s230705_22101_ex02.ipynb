{
 "cells": [
  {
   "cell_type": "markdown",
   "id": "e43967a8",
   "metadata": {},
   "source": [
    "## L2: Python Basics\n",
    "Exercises"
   ]
  },
  {
   "cell_type": "markdown",
   "id": "e24f4b61",
   "metadata": {},
   "source": [
    "1\\. Syntactically wrong python code "
   ]
  },
  {
   "cell_type": "code",
   "execution_count": 3,
   "id": "e77c7943",
   "metadata": {},
   "outputs": [
    {
     "ename": "NameError",
     "evalue": "name 'three' is not defined",
     "output_type": "error",
     "traceback": [
      "\u001b[0;31m---------------------------------------------------------------------------\u001b[0m",
      "\u001b[0;31mNameError\u001b[0m                                 Traceback (most recent call last)",
      "\u001b[0;32m/var/folders/9c/bz3_nczs67l3rlf5shp54rjh0000gn/T/ipykernel_26039/3773499991.py\u001b[0m in \u001b[0;36m<module>\u001b[0;34m\u001b[0m\n\u001b[0;32m----> 1\u001b[0;31m \u001b[0mprint\u001b[0m\u001b[0;34m(\u001b[0m\u001b[0mthree\u001b[0m \u001b[0;34m*\u001b[0m \u001b[0;36m3\u001b[0m\u001b[0;34m)\u001b[0m\u001b[0;34m\u001b[0m\u001b[0;34m\u001b[0m\u001b[0m\n\u001b[0m",
      "\u001b[0;31mNameError\u001b[0m: name 'three' is not defined"
     ]
    }
   ],
   "source": [
    "print(three * 3)"
   ]
  },
  {
   "cell_type": "markdown",
   "id": "eabbf98a",
   "metadata": {},
   "source": [
    "2\\. Write numbers 1 to 10 to the screen one number per line. Use a loop.\n"
   ]
  },
  {
   "cell_type": "code",
   "execution_count": 16,
   "id": "76a42cbe",
   "metadata": {},
   "outputs": [
    {
     "name": "stdout",
     "output_type": "stream",
     "text": [
      "1\n",
      "2\n",
      "3\n",
      "4\n",
      "5\n",
      "6\n",
      "7\n",
      "8\n",
      "9\n",
      "10\n",
      "\n",
      "1\n",
      "2\n",
      "3\n",
      "4\n",
      "5\n",
      "6\n",
      "7\n",
      "8\n",
      "9\n",
      "10\n"
     ]
    }
   ],
   "source": [
    "# using a for loop\n",
    "for i in range(1,11):\n",
    "    print(i)\n",
    "\n",
    "# line break\n",
    "print()\n",
    "\n",
    "# using a while loop\n",
    "i = 1\n",
    "while i < 11:\n",
    "    print(i)\n",
    "    i += 1"
   ]
  },
  {
   "cell_type": "markdown",
   "id": "db498f35",
   "metadata": {},
   "source": [
    "3\\. Write \"Hello World\" 10 times using a loop. One Hello per line."
   ]
  },
  {
   "cell_type": "code",
   "execution_count": 19,
   "id": "25311390",
   "metadata": {},
   "outputs": [
    {
     "name": "stdout",
     "output_type": "stream",
     "text": [
      "Hello World\n",
      "Hello World\n",
      "Hello World\n",
      "Hello World\n",
      "Hello World\n",
      "Hello World\n",
      "Hello World\n",
      "Hello World\n",
      "Hello World\n",
      "Hello World\n",
      "\n",
      "Hello World\n",
      "Hello World\n",
      "Hello World\n",
      "Hello World\n",
      "Hello World\n",
      "Hello World\n",
      "Hello World\n",
      "Hello World\n",
      "Hello World\n",
      "Hello World\n"
     ]
    }
   ],
   "source": [
    "# using a for loop\n",
    "for i in range(1, 11):\n",
    "    print(\"Hello World\")\n",
    "    \n",
    "# line break\n",
    "print()\n",
    "\n",
    "# using a while loop\n",
    "i = 1\n",
    "while i < 11:\n",
    "    print(\"Hello World\")\n",
    "    i += 1"
   ]
  },
  {
   "cell_type": "markdown",
   "id": "20757a9d",
   "metadata": {},
   "source": [
    "4\\. Make a programme ask for a name, and then write a greeting using that name. However, if it is your name you give as input the greeting should be extra nice"
   ]
  },
  {
   "cell_type": "code",
   "execution_count": 25,
   "id": "f3f687a9",
   "metadata": {},
   "outputs": [
    {
     "name": "stdout",
     "output_type": "stream",
     "text": [
      "Please enter your name: Jennifer\n",
      "\n",
      "It is great to have you here Jennifer.\n"
     ]
    }
   ],
   "source": [
    "name = input(\"Please enter your name: \")\n",
    "print()\n",
    "if name == \"Jennifer\":\n",
    "    print(f\"It is great to have you here {name}.\")\n",
    "else:\n",
    "    print(f\"Hello {name}.\")"
   ]
  },
  {
   "cell_type": "markdown",
   "id": "1a0762c7",
   "metadata": {},
   "source": [
    "5\\. Make a programme that asks for two numbers (one at a time) and then prints them and their sum."
   ]
  },
  {
   "cell_type": "code",
   "execution_count": 28,
   "id": "a75e1f76",
   "metadata": {},
   "outputs": [
    {
     "name": "stdout",
     "output_type": "stream",
     "text": [
      "Please enter the first number: 25\n",
      "Please enter the second number: 13\n",
      "25 + 13 = 38\n"
     ]
    }
   ],
   "source": [
    "first_n = int(input(\"Please enter the first number: \"))\n",
    "second_n = int(input(\"Please enter the second number: \"))\n",
    "print(first_n, \"+\", second_n, \"=\", first_n + second_n)"
   ]
  },
  {
   "cell_type": "markdown",
   "id": "06c3f720",
   "metadata": {},
   "source": [
    "6\\. Ask for two numbers and ask what operation to perform on them (+, -, *, /) and display the numbers and the result."
   ]
  },
  {
   "cell_type": "code",
   "execution_count": 41,
   "id": "62442fcc",
   "metadata": {},
   "outputs": [
    {
     "name": "stdout",
     "output_type": "stream",
     "text": [
      "Please enter the first number: 23\n",
      "Please enter the second number: 13\n",
      "Choose and operator from +, -, *, /: *\n",
      "23 * 13 = 299\n"
     ]
    }
   ],
   "source": [
    "first_n = int(input(\"Please enter the first number: \"))\n",
    "second_n = int(input(\"Please enter the second number: \"))\n",
    "operator = input(\"Choose and operator from +, -, *, /: \")\n",
    "\n",
    "if operator == \"+\":\n",
    "    result = first_n + second_n\n",
    "elif operator == \"-\":\n",
    "    result = first_n - second_n\n",
    "elif operator == \"*\":\n",
    "    result = first_n * second_n\n",
    "else:\n",
    "    result = first_n / second_n\n",
    "\n",
    "print(first_n, operator, second_n, \"=\", result)"
   ]
  },
  {
   "cell_type": "markdown",
   "id": "90d1962e",
   "metadata": {},
   "source": [
    "7\\. Ask for two integers and print them and all integers between them. It is not necessary to perform input control - just assume that the user is well-behaved and all inputs integers."
   ]
  },
  {
   "cell_type": "code",
   "execution_count": 45,
   "id": "eb30cf1f",
   "metadata": {},
   "outputs": [
    {
     "name": "stdout",
     "output_type": "stream",
     "text": [
      "Please enter the first integer: 23\n",
      "Please enter the second integer: 29\n",
      "24\n",
      "25\n",
      "26\n",
      "27\n",
      "28\n"
     ]
    }
   ],
   "source": [
    "first_n = int(input(\"Please enter the first integer: \"))\n",
    "second_n = int(input(\"Please enter the second integer: \"))\n",
    "for i in range(first_n + 1, second_n):\n",
    "    print(i)"
   ]
  },
  {
   "cell_type": "markdown",
   "id": "f052d024",
   "metadata": {},
   "source": [
    "8\\. Now make the same programme work even if you switch the input numbers, so it does not matter if you input the smallest number first or last."
   ]
  },
  {
   "cell_type": "code",
   "execution_count": 47,
   "id": "d7eef7d0",
   "metadata": {},
   "outputs": [
    {
     "name": "stdout",
     "output_type": "stream",
     "text": [
      "Please enter the first integer: 31\n",
      "Please enter the second integer: 28\n",
      "29\n",
      "30\n"
     ]
    }
   ],
   "source": [
    "first_n = int(input(\"Please enter the first integer: \"))\n",
    "second_n = int(input(\"Please enter the second integer: \"))\n",
    "\n",
    "smaller_n = min(first_n, second_n)\n",
    "larger_n = max(first_n, second_n)\n",
    "\n",
    "for i in range(smaller_n + 1, larger_n):\n",
    "    print(i)"
   ]
  },
  {
   "cell_type": "markdown",
   "id": "d4a3dbb8",
   "metadata": {},
   "source": [
    "9\\. This need to be read carefully: Make a programme that asks for number, and then countinues asking for numbers as long as you input numbers that are greater or equal to all previous numbers (not the sum of previous numbers)."
   ]
  },
  {
   "cell_type": "code",
   "execution_count": 63,
   "id": "9c846c9a",
   "metadata": {},
   "outputs": [
    {
     "name": "stdout",
     "output_type": "stream",
     "text": [
      "Please enter a number: 20\n",
      "Please enter a number: 20\n",
      "Please enter a number: 20\n",
      "Please enter a number: 19\n"
     ]
    }
   ],
   "source": [
    "# initiate an empty list\n",
    "n_list = []\n",
    "# asks for number\n",
    "while True:\n",
    "    number = int(input(\"Please enter a number: \"))\n",
    "# add number to a list for future reference\n",
    "    n_list.append(number)\n",
    "    \n",
    "    if number >= max(n_list):\n",
    "        continue\n",
    "    else:\n",
    "        break"
   ]
  },
  {
   "cell_type": "markdown",
   "id": "a8256c5f",
   "metadata": {},
   "source": [
    "10\\. Ask for a positive integer and calculate the factorial (n!) of that number. Display the result. If input is negative, display an error message."
   ]
  },
  {
   "cell_type": "code",
   "execution_count": 75,
   "id": "36149919",
   "metadata": {},
   "outputs": [
    {
     "name": "stdout",
     "output_type": "stream",
     "text": [
      "Please enter a positive number: -9\n",
      "**Error: The input is negative, please enter a positive number instead.**\n"
     ]
    }
   ],
   "source": [
    "# ask for a positive integer\n",
    "number = int(input(\"Please enter a positive number: \"))\n",
    "\n",
    "# as long as the input is positive\n",
    "if number > 0:\n",
    "# calculate the factorial\n",
    "    numbers = range(1, number+1)\n",
    "    factorial = sum(n for n in numbers)\n",
    "# display result\n",
    "    print(factorial)\n",
    "else:\n",
    "    print(\"**Error: The input is negative, please enter a positive number instead.**\")"
   ]
  },
  {
   "cell_type": "markdown",
   "id": "f750c683",
   "metadata": {},
   "source": [
    "11\\. If you solved the previous one then this should be relatively easy. Ask for an integer and calculate the sum from 0 up/down to the integer. An example: If you input 5 then calculate 5 + 4 + 3 + 2 + 1 (+0) = 15. If input is -4 then calculate -4 + -3 + -2 + -1 + (0) = -10"
   ]
  },
  {
   "cell_type": "code",
   "execution_count": 79,
   "id": "dc170a3c",
   "metadata": {},
   "outputs": [
    {
     "name": "stdout",
     "output_type": "stream",
     "text": [
      "Please enter a number: -4\n",
      "-10\n"
     ]
    }
   ],
   "source": [
    "# ask for an integer\n",
    "number = int(input(\"Please enter a number: \"))\n",
    "\n",
    "# calculate sum from 0 up to or down to the integer\n",
    "# for positive inputs:\n",
    "if number >= 0:\n",
    "    numbers = range(0, number + 1)\n",
    "    result = sum(n for n in numbers)\n",
    "# for negative inputs:\n",
    "else:\n",
    "    numbers = range(number, 0 + 1)\n",
    "    result = sum(n for n in numbers)\n",
    "\n",
    "# display result\n",
    "print(result)"
   ]
  }
 ],
 "metadata": {
  "kernelspec": {
   "display_name": "Python 3 (ipykernel)",
   "language": "python",
   "name": "python3"
  },
  "language_info": {
   "codemirror_mode": {
    "name": "ipython",
    "version": 3
   },
   "file_extension": ".py",
   "mimetype": "text/x-python",
   "name": "python",
   "nbconvert_exporter": "python",
   "pygments_lexer": "ipython3",
   "version": "3.9.7"
  }
 },
 "nbformat": 4,
 "nbformat_minor": 5
}
