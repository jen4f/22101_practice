{
 "cells": [
  {
   "cell_type": "markdown",
   "id": "fa1daf9a",
   "metadata": {},
   "source": [
    "## L4: Pseudocode and Comments\n",
    "Exercises for extra practice"
   ]
  },
  {
   "cell_type": "markdown",
   "id": "99b4052f",
   "metadata": {},
   "source": [
    "1\\. Ask for a filename. Open the file and read and display the lines in a loop. However, if the line is empty, do not display it. Try on mixedlines.txt."
   ]
  },
  {
   "cell_type": "code",
   "execution_count": 1,
   "id": "91963616",
   "metadata": {},
   "outputs": [
    {
     "name": "stdout",
     "output_type": "stream",
     "text": [
      "Please enter filename: mixedlines.txt\n",
      "First line\n",
      "Let's take a break\n",
      "Now I will have a space on the following line.\n",
      "\n",
      "It is hard to see that the line is not empty\n",
      "bla bla bla\n",
      "Lorem ipsum dolor sit amet, consectetur adipiscing elit. Quisque a odio lacus. Suspendisse tempor libero sem,\n",
      "non pulvinar dui efficitur nec. Nullam sit amet quam vitae nibh cursus vehicula. Fusce orci nisi, scelerisque\n",
      "lacinia leo non, sollicitudin consequat lectus. Cras ac enim diam. Sed pharetra massa pretium, tempor metus ac,\n",
      "gravida odio. Nullam quis est non eros accumsan viverra quis a dolor. Nam sed lorem in orci elementum egestas\n",
      "sit amet consectetur velit. Proin sit amet leo non elit tincidunt facilisis.\n",
      "Pellentesque eu feugiat ex. Phasellus sodales leo in magna hendrerit ornare. Suspendisse eget neque id sem\n",
      "faucibus euismod. Proin accumsan ipsum lorem, id bibendum mauris viverra sit amet. Vivamus sed nisi odio.\n",
      "In molestie nunc in dolor convallis, at dignissim ante gravida. Etiam orci arcu, imperdiet quis lacus vitae,\n",
      "dignissim mattis urna. Morbi maximus fringilla sodales. Donec lobortis metus ac urna cursus hendrerit.\n",
      "Fusce nunc ipsum, aliquam in commodo a, pulvinar sit amet odio. Duis pharetra justo quis tincidunt pretium.\n",
      "Aenean at elit sed nunc facilisis sollicitudin.\n",
      "Fusce risus nisl, hendrerit et nisl ac, semper sodales sapien. Nullam non eros in nunc volutpat interdum.\n",
      "Sed mollis mauris at ultrices ornare. In et neque purus. Phasellus libero eros, faucibus molestie ex id,\n",
      "tempor vulputate ante. Nullam sed tellus id nulla sagittis tincidunt convallis a quam. Suspendisse nec ligula\n",
      "tincidunt, iaculis sem consequat, scelerisque magna. Sed vitae turpis tortor. Suspendisse tincidunt, turpis a\n",
      "fringilla viverra, ex arcu aliquet lorem, ut tempor quam turpis vitae dui. Proin eleifend pretium dolor sed\n",
      "feugiat. Praesent dolor velit, scelerisque quis leo id, iaculis dignissim sem. Nulla bibendum ante vel urna\n",
      "consequat molestie in commodo tellus. Sed sed odio eget felis imperdiet aliquam eget et ante. Sed ac sapien\n",
      "ipsum. Maecenas commodo massa sit amet scelerisque volutpat.\n",
      "Quisque venenatis ligula nec urna gravida volutpat. Phasellus varius augue lectus, in porta lectus volutpat ac.\n",
      "Ut aliquam, turpis ac lobortis suscipit, sapien mauris fringilla augue, eleifend euismod orci elit aliquam orci.\n",
      "Donec vitae purus sollicitudin, rutrum quam vel, varius libero. Cras bibendum mollis scelerisque.\n",
      "Integer tincidunt ligula in nunc consequat, hendrerit suscipit eros porta. Vivamus at ante bibendum, fringilla\n",
      "augue id, interdum odio. Suspendisse non magna sit amet eros cursus congue nec eu justo.\n",
      "Nullam vitae egestas leo. In molestie sed felis ac gravida. Nam finibus felis odio, sed vulputate sapien\n",
      "ullamcorper ut. Morbi nec faucibus risus, nec lobortis urna. Donec condimentum dolor id quam ullamcorper\n",
      "malesuada. Nunc iaculis est nibh, at accumsan tortor viverra eu. Donec lacinia eu nisl ac ultrices.\n",
      "Phasellus at felis nec massa euismod facilisis at volutpat massa. Aliquam id magna sem.\n",
      "Ut gravida libero ac nunc faucibus hendrerit.\n",
      "That is enough random latin. Now to something else.\n",
      "Cheers for DNA.\n",
      "GAGAAGATAAGTCGCAAGGAGGGGGCGGGACCCACACCTCAGGAAAGCCGGAGAATTGGG\n",
      "GCACGCAAGCGGGGGGGCTTTGATGACCCCCCAAAGGGCGAGGCATGCAGGAGGTGGAGG\n",
      "AATTAAGTGAAACAGGGAAGGTTGTTAAACAGCACCGTGTGGGCGAGGCCTTAAGGGTCG\n",
      "TGGTCCTCGTCTGGGCGGGGTCTTTGGGCGTCGACGAGGCCTGGTTCTGGGTAGGCGGGG\n",
      "CTACTACGGGGCGGTGCCTGCTGTGGAAATGCCTGCCCGCGCGCTTCTGCCCAGGCGCAT\n",
      "GGGGCATCGTACTCTAGCCTCCACTCCTGCCCTGTGGGCCTCCATCCCGTGCCCTCGCTC\n",
      "TGAGCTGCGCCTGGACCTGGTTCTGCCTTCTGGACAATCTTTCCGGTGGAGGGAGCAAAG\n",
      "TCCTGCACACTGGAGTGGTGTACTAGCGGATCAAGTATGGACACTGACTCAGACTGAGGA\n",
      "GCAGCTCCACTGCACTGTGTACCGAGGAGACAAGAGCCAGGCTAGCAGGCCCACACCAGA\n",
      "CGAGCTGGAGGCCGTGCGCAAGTACTTCCAGCTAGATGTTACCCTGGCTCAACTGTATCA\n",
      "CCACTGGGGTTCCGTGGACTCCCACTTCCAAGAGGTGGCTCAGAAATTCCAAGGTGTGCG\n",
      "ACTGCTGCGACAAGACCCCATCGAATGCCTTTTCTCTTTTATCTGTTCCTCCAACAACAA\n",
      "CATCGCCCGCATCACTGGCATGGTGGAGCGGCTGTGCCAGGCTTTTGGACCTCGGCTCAT\n",
      "CCAGCTTGATGATGTCACCTACCATGGCTTCCCCAGCCTGCAGGCCCTGGCTGGGCCAGA\n",
      "GGTGGAGGCTCATCTCAGGAAGCTGGGCCTGGGCTATCGTGCCCGTTACGTGAGTGCCAG\n",
      "TGCCCGAGCCATCCTGGAAGAACAGGGCGGGCTAGCCTGGCTGCAGCAGCTACGAGAGTC\n",
      "CTCATATGAGGAGGCCCACAAGGCCCTCTGCATCCTGCCTGGAGTGGGCACCAAGGTGGC\n",
      "TGACTGCATCTGCCTGATGGCCCTAGACAAGCCCCAGGCTGTGCCCGTGGATGTCCATAT\n",
      "GTGGCACATTGCCCAACGTGACTACAGCTGGCACCCTACCACGTCCCAGGCGAAGGGACC\n",
      "GAGCCCCCAGACCAACAAGGAACTGGGAAACTTTTTCCGGAGCCTGTGGGGACCTTATGC\n",
      "TGGCTGGGCCCAAGCGGTGCTGTTCAGTGCCGACCTGCGCCAATCCCGCCATGCTCAGGA\n",
      "GCCACCAGCAAAGCGCAGAAAGGGTTCCAAAGGGCCGGAAGGCTAGATGGGGCACCCTGG\n",
      "ACAAAGAAATTCCCCAAGCACCTTCCCCTCCATTCCCCACTTCTCTCTCCCCATCCCCAC\n",
      "CCAGTCTCATGTTGGGGAGGGGCCTCCCTGTGACTACCTCAAAGGCCAGGCACCCCCAAA\n",
      "TCAAGCAGTCAGTTTGCACAACAAGATGGGGTGGGGGATATTGAGGGAGACAGCGCTAAG\n",
      "GATGGTTTTATCTTCCCTTTATTACAAGAAGGAACAATAAAATAGAAACATTTGTATGG\n",
      "Enough.\n",
      "There are 19 empty lines and 66 non-empty lines.\n",
      "Did you miss the last line which is empty?\n"
     ]
    }
   ],
   "source": [
    "# start with pseudo code first\n",
    "\"\"\"\n",
    "Prompt user for file name\n",
    "open file\n",
    "    for line in file\n",
    "    if the line is not completely empty\n",
    "        display it.\n",
    "    else\n",
    "        don't display it\n",
    "\"\"\"\n",
    "\n",
    "filename = input(\"Please enter filename: \")\n",
    "with open (f\"{filename}\", \"r\") as infile:\n",
    "    for line in infile:\n",
    "        if line != \"\\n\":\n",
    "            print(line.strip())\n",
    "        else:\n",
    "            pass"
   ]
  },
  {
   "cell_type": "markdown",
   "id": "d28caf39",
   "metadata": {},
   "source": [
    "2\\. Ask for a number. Now ask for a filename - ex1_1.dat, ex1_2.dat & ex1_3.dat are good. Open the file and count how many numbers are lower than your input number. Display the result.\n"
   ]
  },
  {
   "cell_type": "code",
   "execution_count": 3,
   "id": "03741896",
   "metadata": {},
   "outputs": [
    {
     "name": "stdout",
     "output_type": "stream",
     "text": [
      "Enter a number: 4\n",
      "Enter a filename: ex1_2.dat\n",
      "1597\n"
     ]
    }
   ],
   "source": [
    "# pseudocode\n",
    "\"\"\"\n",
    "Prompt user for a number\n",
    "prompt user for a filename\n",
    "\n",
    "initiate counter variable\n",
    "open file\n",
    "    for line in file\n",
    "    if value in line < user's number\n",
    "        increase counter variable by one\n",
    "    else\n",
    "        do nothing\n",
    "\n",
    "display value of counter\n",
    "\"\"\"\n",
    "# code\n",
    "number = int(input(\"Enter a number: \"))\n",
    "filename = input(\"Enter a filename: \")\n",
    "\n",
    "counter = 0\n",
    "with open (f\"{filename}\", \"r\") as infile:\n",
    "    for line in infile:\n",
    "        line = float(line.strip())\n",
    "        if line < number:\n",
    "            counter += 1\n",
    "        else:\n",
    "            pass\n",
    "print(counter)"
   ]
  },
  {
   "cell_type": "markdown",
   "id": "899ec320",
   "metadata": {},
   "source": [
    "3\\. Ask for a number. Now ask for a filename - ex1_1.dat, ex1_2.dat & ex1_3.dat are good. Open the file and read the number on the lines. Compute two sums; the sum of numbers higher than your input number and the sum of numbers lower than your input number. Display the result."
   ]
  },
  {
   "cell_type": "code",
   "execution_count": 4,
   "id": "800eeaea",
   "metadata": {},
   "outputs": [
    {
     "name": "stdout",
     "output_type": "stream",
     "text": [
      "Enter a number: 4\n",
      "Enter a filename: ex1_3.dat\n",
      "The sum of numbers higher than the input number is 157.754\n",
      "The sum of numbers lower than the input number is 134.298\n"
     ]
    }
   ],
   "source": [
    "\"\"\"\n",
    "prompt user to input number\n",
    "prompt user to input filename\n",
    "initiate variable sum_higher as zero\n",
    "initiate variable sum_lower as zero\n",
    "\n",
    "open file\n",
    "    for line in file\n",
    "        if line is higher than number\n",
    "            add this to the variable sum_higher\n",
    "        elif line has lower value than number\n",
    "            add this to the variabel sum_lower\n",
    "        else\n",
    "            do nothing\n",
    "\n",
    "display value of both sums\n",
    "\n",
    "\"\"\"\n",
    "number = int(input(\"Enter a number: \"))\n",
    "filename = input(\"Enter a filename: \")\n",
    "sum_higher = 0\n",
    "sum_lower = 0\n",
    "\n",
    "with open (f\"{filename}\", \"r\") as infile:\n",
    "    for line in infile:\n",
    "        line = float(line.strip())\n",
    "        if line > number:\n",
    "            sum_higher += line\n",
    "        elif line < number:\n",
    "            sum_lower += line\n",
    "        else:\n",
    "            pass\n",
    "\n",
    "sum_higher = format(sum_higher, \".3f\")\n",
    "sum_lower = format(sum_lower, \".3f\")\n",
    "print(f\"The sum of numbers higher than the input number is {sum_higher}\")\n",
    "print(f\"The sum of numbers lower than the input number is {sum_lower}\")"
   ]
  }
 ],
 "metadata": {
  "kernelspec": {
   "display_name": "Python 3 (ipykernel)",
   "language": "python",
   "name": "python3"
  },
  "language_info": {
   "codemirror_mode": {
    "name": "ipython",
    "version": 3
   },
   "file_extension": ".py",
   "mimetype": "text/x-python",
   "name": "python",
   "nbconvert_exporter": "python",
   "pygments_lexer": "ipython3",
   "version": "3.9.7"
  }
 },
 "nbformat": 4,
 "nbformat_minor": 5
}
