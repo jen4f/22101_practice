{
 "cells": [
  {
   "cell_type": "markdown",
   "id": "1f907ca1",
   "metadata": {},
   "source": [
    "## L6: Exceptions and Bug Handling\n",
    "Excercises for Extra Practice"
   ]
  },
  {
   "cell_type": "markdown",
   "id": "48f28840",
   "metadata": {},
   "source": [
    "1. In a file you make yourself are numbers and words with one number/word on each line. Now make a program that reads the file and sums the numbers and displays the result. The words are ignored."
   ]
  },
  {
   "cell_type": "code",
   "execution_count": 2,
   "id": "3b255590",
   "metadata": {
    "scrolled": true
   },
   "outputs": [
    {
     "name": "stdout",
     "output_type": "stream",
     "text": [
      "The numbers add up to 20950\n"
     ]
    }
   ],
   "source": [
    "# pseudo code\n",
    "\"\"\"\n",
    "initiate a sum variable to 0 \n",
    "write a file usign the command line\n",
    "open file\n",
    "   for line in file\n",
    "       use string method to check if line is numeric\n",
    "       if numeric:\n",
    "           add it onto the sum variable\n",
    "display the sum\n",
    "\"\"\"\n",
    "# code\n",
    "total = 0\n",
    "with open(\"L6_extra_ex01.txt\", \"r\") as infile:\n",
    "    for line in infile:\n",
    "        line = line.strip()    # realised this mattered after some trail and error.\n",
    "        if line.isnumeric():\n",
    "            total += int(line)\n",
    "        else:\n",
    "            pass\n",
    "        \n",
    "print(f\"The numbers add up to {total}\")"
   ]
  },
  {
   "cell_type": "markdown",
   "id": "4c8191d5",
   "metadata": {},
   "source": [
    "2. In the file mixedlines.txt how many 4 letter words exists? A word is here defined as consecutive visible characters, i.e. \"12\", \"ipsum.\" are both words."
   ]
  },
  {
   "cell_type": "code",
   "execution_count": 3,
   "id": "fa34d719",
   "metadata": {},
   "outputs": [
    {
     "name": "stdout",
     "output_type": "stream",
     "text": [
      "73\n"
     ]
    }
   ],
   "source": [
    "# pseudo code\n",
    "\"\"\"\n",
    "use the command line to look over mixedlines.txt\n",
    "initiate a variable to calculate the cumulative sum\n",
    "open the file mixedlines.txt\n",
    "    use normal for line in infile, then split into list by space.\n",
    "\n",
    "I think this method is more convinient than using readlines(), \n",
    "at least in the way I've tried it.\n",
    "\"\"\"\n",
    "# code\n",
    "total_len4 = 0\n",
    "with open(\"mixedlines.txt\", \"r\") as infile:\n",
    "    for line in infile:\n",
    "        line = line.strip()\n",
    "        line = line.split() \n",
    "        # print(line) sanity check, so you know what we have\n",
    "        for string in line:\n",
    "            if len(string) == 4:\n",
    "                total_len4 += 1\n",
    "            else:\n",
    "                pass\n",
    "    print(total_len4)"
   ]
  },
  {
   "cell_type": "markdown",
   "id": "c1f967ac",
   "metadata": {},
   "source": [
    "3. Write a program that asks for an integer, and then determines if the number was a prime number or not."
   ]
  },
  {
   "cell_type": "code",
   "execution_count": 4,
   "id": "95482072",
   "metadata": {},
   "outputs": [
    {
     "name": "stdout",
     "output_type": "stream",
     "text": [
      "Please enter an integer: 97\n",
      "97 is a prime number.\n"
     ]
    }
   ],
   "source": [
    "# pseudocode\n",
    "\"\"\"\n",
    "prompt user to input an integer\n",
    "by definition, prime numbers have no dividers other than itself.\n",
    "for example 7 is a prime number.\n",
    "dividing 7 by any number between 2 and 6 will result in a remainder\n",
    "i.e. remainder != 0\n",
    "in other words dividing {prime_number} by any number in range(0, prime_number - 1)\n",
    "will give a remainder that != 0.\n",
    "\"\"\"\n",
    "# code\n",
    "input_num = int(input(\"Please enter an integer: \"))\n",
    "remainders = []\n",
    "for i in range(2, input_num - 1):\n",
    "    remainders.append(input_num % i)\n",
    "\n",
    "if 0 not in remainders:\n",
    "    print(f\"{input_num} is a prime number.\")\n",
    "else:\n",
    "    print(f\"{input_num} is not a prime number.\")"
   ]
  },
  {
   "attachments": {
    "image.png": {
     "image/png": "[encoded data removed]"
    }
   },
   "cell_type": "markdown",
   "id": "4a40a8fe",
   "metadata": {},
   "source": [
    "4\\. Write a program that prints a \"bulls-eye\" to the screen using characters like; '.', '+', '*', '#', etc.\n",
    "\n",
    "You have to import the math library, in order to access the squareroot (sqrt), sine (sin), cosine (cos), and so forth functions. The square root of x is gotten like math.sqrt(x). I only used: for, if, elif, print, +, -, /, **, int, sqrt for this 40x40 example.\n",
    "\n",
    "Hint: Think of a grid where one point is the center of the eye/circle. The positions in the grid will use different chars, depending how far away they are from the center. You might get an oval shape - think about why.\n",
    "\n",
    "![image.png](attachment:image.png)"
   ]
  },
  {
   "cell_type": "code",
   "execution_count": 11,
   "id": "089a9ae3",
   "metadata": {},
   "outputs": [],
   "source": [
    "# unsolved.\n",
    "# https://stackoverflow.com/questions/70722545/draw-circle-in-console-using-python]\n",
    "# link above provides a reference"
   ]
  }
 ],
 "metadata": {
  "kernelspec": {
   "display_name": "Python 3 (ipykernel)",
   "language": "python",
   "name": "python3"
  },
  "language_info": {
   "codemirror_mode": {
    "name": "ipython",
    "version": 3
   },
   "file_extension": ".py",
   "mimetype": "text/x-python",
   "name": "python",
   "nbconvert_exporter": "python",
   "pygments_lexer": "ipython3",
   "version": "3.9.7"
  }
 },
 "nbformat": 4,
 "nbformat_minor": 5
}
