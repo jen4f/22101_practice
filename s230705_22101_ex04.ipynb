{
 "cells": [
  {
   "cell_type": "markdown",
   "id": "59b6f263",
   "metadata": {},
   "source": [
    "## L4: Pseudocode and Comments\n",
    "Excercises\n",
    "\n",
    "In all these exercises, start with writing pseudo code first and the programme after"
   ]
  },
  {
   "cell_type": "markdown",
   "id": "faba8c4c",
   "metadata": {},
   "source": [
    "1. Make a programme that asks for two numbers (integers), and calculates the mean (average) of those numbers. The mean must be converted to an integer. Displays results along with input numbers. Make sure what is displayed is explained well."
   ]
  },
  {
   "cell_type": "code",
   "execution_count": 1,
   "id": "0ffe26a6",
   "metadata": {},
   "outputs": [
    {
     "name": "stdout",
     "output_type": "stream",
     "text": [
      "Enter the first integer: 8\n",
      "Enter the second integer: 9\n",
      "8.5\n"
     ]
    }
   ],
   "source": [
    "# pseudocode\n",
    "\"\"\"\n",
    "initiate an empty list of integers\n",
    "\n",
    "prompt user to input first integer and add to list\n",
    "prompt user for input second integer and add to list\n",
    "\n",
    "number of integers = length of int_list\n",
    "\n",
    "sum = 0\n",
    "for int in int_list:\n",
    "    sum += int\n",
    "\n",
    "mean = sum / number of integers\n",
    "display mean\n",
    "\"\"\"\n",
    "# code\n",
    "int_list = []\n",
    "int_list.append(int(input(\"Enter the first integer: \")))\n",
    "int_list.append(int(input(\"Enter the second integer: \")))\n",
    "\n",
    "n_int = len(int_list)\n",
    "sum = 0\n",
    "for int in int_list:\n",
    "    sum += int\n",
    "\n",
    "mean = sum / n_int\n",
    "print(mean)"
   ]
  },
  {
   "cell_type": "markdown",
   "id": "3bafbedd",
   "metadata": {},
   "source": [
    "2. Write a programme that asks for a file name and then open the file and count the number of empty lines and non-empty lines in the file. Display the two counts. Test it on the mixedlines.txt file."
   ]
  },
  {
   "cell_type": "code",
   "execution_count": 2,
   "id": "a1259b0b",
   "metadata": {},
   "outputs": [
    {
     "name": "stdout",
     "output_type": "stream",
     "text": [
      "What is the filename? mixedlines.txt\n",
      "There are 19 lines, and 66 non-empty lines in mixedlines.txt\n"
     ]
    }
   ],
   "source": [
    "# pseudo code\n",
    "\"\"\"\n",
    "initiate two variables, n_empty lines and n_non-empty lines as 0\n",
    "file name = prompt user for filename\n",
    "with open filename in read mode, as infile\n",
    "    for line in infile\n",
    "        if line is not just equal to a blank line\n",
    "            then add one to the number of non-empty lines\n",
    "        else\n",
    "            add one to the number of empty lines\n",
    "\n",
    "print n_empty lines and n_non-empty lines\n",
    "\"\"\"\n",
    "# code\n",
    "n_empty, n_non_empty = 0, 0\n",
    "file_name = input(\"What is the filename? \")\n",
    "with open(f\"{file_name}\", \"r\") as infile:\n",
    "    for line in infile:\n",
    "        if line != \"\\n\":\n",
    "            n_non_empty += 1\n",
    "        else:\n",
    "            n_empty += 1\n",
    "\n",
    "print(f\"There are {n_empty} lines, and {n_non_empty} non-empty lines in {file_name}\")\n",
    "\n",
    "# output was correct\n",
    "# checked it with the output of tail mixedlines.txt, which provides this information."
   ]
  },
  {
   "cell_type": "markdown",
   "id": "0dcaee34",
   "metadata": {},
   "source": [
    "3\\. Returning to last weeks exercise 4, where you had to ask for a file name and you program would then calculate the average of the numbers in the file. Do the same this time, except you have to continue to ask for file names and calculate the average until you enter nothing - no file name. Test on the same files as last time."
   ]
  },
  {
   "cell_type": "code",
   "execution_count": 6,
   "id": "23de80b8",
   "metadata": {},
   "outputs": [
    {
     "name": "stdout",
     "output_type": "stream",
     "text": [
      "Enter file name: ex1_1.dat\n",
      "-0.53995\n",
      "Enter file name: ex1_2.dat\n",
      "0.28826\n",
      "Enter file name: ex1_3.dat\n",
      "0.17436\n",
      "Enter file name: \n"
     ]
    }
   ],
   "source": [
    "# start with writing the pseudocode first\n",
    "\"\"\"\n",
    "ex3\n",
    "reuturining to last week ex4, where you had to ask for a filename\n",
    "and your progamme would then calculate the avg of the numbers in the file.\n",
    "\n",
    "Do the same this time, except you have to \n",
    "continue to ask for file names\n",
    "and calculate the average until you enter nothing - no file name.\n",
    "\n",
    "Test on the same file as last time.\n",
    "\"\"\"\n",
    "# pseudo code\n",
    "\"\"\"\n",
    "while True\n",
    "    prompt the user to enter a file name\n",
    "    initiate a variabele sum_filename = 0\n",
    "    initiate a variable lines_filename = 0\n",
    "    with open the file in read mode as in file\n",
    "        for line in infile\n",
    "            modify line\n",
    "            add line to sum_filename\n",
    "            add 1 to n_filelines\n",
    "        average_filename  = sum_filename/lines_filename\n",
    "        display average_filename\n",
    "    if file_name == \"\":\n",
    "        break\n",
    "\"\"\"\n",
    "# test\n",
    "# how to keep prompting until no entry\n",
    "while True:\n",
    "    file_name = input(\"Enter file name: \")\n",
    "    if file_name == \"\":\n",
    "        break\n",
    "    sum_filename = 0\n",
    "    lines_filename = 0\n",
    "    with open(f\"{file_name}\", \"r\") as infile:\n",
    "        for line in infile:\n",
    "            line = float(line.strip())\n",
    "            sum_filename += line\n",
    "            lines_filename +=1\n",
    "        average_filename = sum_filename/lines_filename\n",
    "        # reformat variable to be 5 decimial points.\n",
    "        average_filename = format(average_filename, \".5f\")\n",
    "        print(average_filename)"
   ]
  },
  {
   "cell_type": "markdown",
   "id": "748f2dda",
   "metadata": {},
   "source": [
    "4\\. Now for some playing. Make a program that guesses a number between 1 and 10 that you think of. It should make a guess, and you shall answer yes (if correctly guessed), higher (if the number you think of is higher than the guess) or lower (if the number you think of is lower than the guess). The program ends when the number is guessed correctly, otherwise it tries again. It is NOT considered OK to guess at a number more than once, i.e. no repeats. It is fine not to try to make this random guessing. Also think about how simple you can make this and still fulfill the wording of the exercises. Just don't run with the first idea you get. Don't embellish with additional functionality - it will just get difficult and we save that for later. Just to be clear - the number you think of must nowhere be in the program."
   ]
  },
  {
   "cell_type": "code",
   "execution_count": 1,
   "id": "302d09d5",
   "metadata": {},
   "outputs": [
    {
     "name": "stdout",
     "output_type": "stream",
     "text": [
      "Think of a number between 1-10...\n",
      "Is your number 5? (yes/no) no\n",
      "Is your number higher or lower (higher/lower)? higher\n",
      "Is your number 6? (yes/no) no\n",
      "Is your number higher or lower (higher/lower)? higher\n",
      "Is your number 7? (yes/no) no\n",
      "Is your number higher or lower (higher/lower)? higher\n",
      "Is your number 8? (yes/no) yes\n"
     ]
    }
   ],
   "source": [
    "# start with writing pseudocode first\n",
    "\"\"\"\n",
    "Now for some playing.\n",
    "Make a programme that guesses a number between 1 and 10\n",
    "that you think of.\n",
    "\n",
    "It should made a guess,\n",
    "and you shall answer yes (if correctly guessed),\n",
    "higher (if the number you think is higher than the guess),\n",
    "or lower (if the number you think is lower than the guess).\n",
    "\n",
    "The programme ends when the number is guessed correclty,\n",
    "otherwise it tries again.\n",
    "\n",
    "It is NOT considered OK to guess at a number more than once,\n",
    "i.e. no repeats.\n",
    "\"\"\"\n",
    "# pseudo code\n",
    "\"\"\"\n",
    "guess = 5\n",
    "display guess\n",
    "while True\n",
    "    prompt user for evalutation\n",
    "        if evaluation is yes\n",
    "            break\n",
    "        else if evalutation is higher\n",
    "            then guess + 1\n",
    "        else if evaluation is lower\n",
    "            then guess -1\n",
    "        else\n",
    "            pass\n",
    "\"\"\"\n",
    "# code\n",
    "\n",
    "print(f\"Think of a number between 1-10...\")\n",
    "guess = 5\n",
    "\n",
    "while True:\n",
    "    response = input(f\"Is your number {guess}? (yes/no) \" )\n",
    "    if response == \"yes\":\n",
    "        break\n",
    "    elif response == \"no\":\n",
    "        evaluation = input(f\"Is your number higher or lower than {guess}? (higher/lower) \" )\n",
    "        if evaluation == \"higher\":\n",
    "            guess += 1\n",
    "        elif evaluation == \"lower\":\n",
    "            guess -= 1\n",
    "        else:\n",
    "            pass\n",
    "    else:\n",
    "        pass"
   ]
  },
  {
   "cell_type": "markdown",
   "id": "ccabc4a0",
   "metadata": {},
   "source": [
    "5\\. Make a programme that asks for a positive integer. Then it should print the same number of lines. On the first line there must be one #, second line two #, third line three #, and so forth. Do not enter too high a number or you will regret it. This will give the shape of a triangle."
   ]
  },
  {
   "cell_type": "code",
   "execution_count": 2,
   "id": "52931844",
   "metadata": {},
   "outputs": [
    {
     "name": "stdout",
     "output_type": "stream",
     "text": [
      "Enter a number: 5\n",
      "#\n",
      "##\n",
      "###\n",
      "####\n",
      "#####\n"
     ]
    }
   ],
   "source": [
    "# start with writing pseudocode first\n",
    "\"\"\"\n",
    "ex5.\n",
    "Make a programme that asks for a positive integer.\n",
    "Then it should print the same number of lines.\n",
    "\n",
    "On the first line there should be one #,\n",
    "second line two #s, third line three #s and so forth.\n",
    "\n",
    "Do not enter too high a number or you will regret it.\n",
    "This will give the shape of a triangle.\n",
    "\"\"\"\n",
    "# pseudo code\n",
    "\"\"\"\n",
    "max = prompt user for a number\n",
    "number of hashes = 1\n",
    "while we do not surpass max\n",
    "    print number of hashes\n",
    "    number of hasher += 1\n",
    "\"\"\"\n",
    "# code\n",
    "max = int(input(\"Enter a number: \"))\n",
    "n_hash = 1\n",
    "while n_hash < (max + 1):\n",
    "    print(n_hash * \"#\")\n",
    "    n_hash += 1"
   ]
  },
  {
   "cell_type": "markdown",
   "id": "3973cd21",
   "metadata": {},
   "source": [
    "6\\. Let's play with shapes for a bit. Make programs that prints at least two of these shapes, one program per shape. It does not have to match my shapes exactly. Hint; think of printing one char at a time in a grid. That means one each line one char is printed at a time. You have to decide what to print based on the line and position in the line of the char.\n",
    "First, a shape resembling /."
   ]
  },
  {
   "cell_type": "code",
   "execution_count": 4,
   "id": "fa210767",
   "metadata": {},
   "outputs": [
    {
     "name": "stdout",
     "output_type": "stream",
     "text": [
      "Enter a number: 3\n",
      "  #\n",
      " #\n",
      "#\n"
     ]
    }
   ],
   "source": [
    "# pseudo code\n",
    "\"\"\"\n",
    "max = prompt user for a number\n",
    "while max is not zero\n",
    "    print (max-1 * \" \") + \"#\"\n",
    "    max -= 1\n",
    "\"\"\"\n",
    "# code\n",
    "max = int(input(\"Enter a number: \"))\n",
    "while max != 0:\n",
    "    print(((max - 1) * \" \") + \"#\")\n",
    "    max -= 1"
   ]
  },
  {
   "cell_type": "markdown",
   "id": "0407d948",
   "metadata": {},
   "source": [
    "Second, a shape resembling \\"
   ]
  },
  {
   "cell_type": "code",
   "execution_count": 5,
   "id": "5f5c8d6e",
   "metadata": {},
   "outputs": [
    {
     "name": "stdout",
     "output_type": "stream",
     "text": [
      "Enter a number: 4\n",
      "#\n",
      " #\n",
      "  #\n",
      "   #\n"
     ]
    }
   ],
   "source": [
    "# pseudocode \n",
    "\"\"\"\n",
    "max = prompt user for a number\n",
    "counter = 0\n",
    "while max is not reached\n",
    "    print((counter) * \" \" + \"#\")\n",
    "    counter += 1\n",
    "\"\"\"\n",
    "# code\n",
    "max = int(input(\"Enter a number: \"))\n",
    "counter = 0\n",
    "while counter < max:\n",
    "    print((counter) * \" \" + \"#\")\n",
    "    counter += 1"
   ]
  },
  {
   "cell_type": "markdown",
   "id": "26aceb4d",
   "metadata": {},
   "source": [
    "Third, a shape resembling X"
   ]
  },
  {
   "cell_type": "code",
   "execution_count": 6,
   "id": "e8d962b7",
   "metadata": {},
   "outputs": [
    {
     "name": "stdout",
     "output_type": "stream",
     "text": [
      "Enter a number: 6\n",
      "#    #\n",
      " #  #\n",
      "  ##\n"
     ]
    }
   ],
   "source": [
    "# attempted for a while, was able to print upper part of X but later decided to\n",
    "# move-on to other questions.\n",
    "# works well on even numbers, needs to be improved for odd numbers\n",
    "\n",
    "def main():\n",
    "    lines = int(input(\"Enter a number: \"))\n",
    "    upper(lines)\n",
    "    # lower(lines)\n",
    "# make the top v (\\/)\n",
    "# then the bottom v (/\\)\n",
    "# at least we know I can define a function for the top v\n",
    "# and another for the bottom v\n",
    "# and they will appear one after the other\n",
    "\n",
    "#    #\n",
    " #  #\n",
    "  ##\n",
    "def upper(lines):\n",
    "    counter = 0\n",
    "    while lines >= 0 and counter < lines:\n",
    "        print((counter * \" \") + \"#\" + ((lines - 2 - counter) * \" \") + \"#\")\n",
    "        counter += 1\n",
    "        lines -= 1\n",
    "\n",
    "  ##\n",
    " #  #\n",
    "#    #\n",
    "main()"
   ]
  }
 ],
 "metadata": {
  "kernelspec": {
   "display_name": "Python 3 (ipykernel)",
   "language": "python",
   "name": "python3"
  },
  "language_info": {
   "codemirror_mode": {
    "name": "ipython",
    "version": 3
   },
   "file_extension": ".py",
   "mimetype": "text/x-python",
   "name": "python",
   "nbconvert_exporter": "python",
   "pygments_lexer": "ipython3",
   "version": "3.9.7"
  }
 },
 "nbformat": 4,
 "nbformat_minor": 5
}
