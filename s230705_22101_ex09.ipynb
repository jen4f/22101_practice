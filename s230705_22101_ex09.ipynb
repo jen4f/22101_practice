{
 "cells": [
  {
   "cell_type": "markdown",
   "id": "67d406b0",
   "metadata": {},
   "source": [
    "## L9: More with Lists\n",
    "Exercises"
   ]
  },
  {
   "cell_type": "markdown",
   "id": "d0faf7c2",
   "metadata": {},
   "source": [
    "1\\. Similar to the first exercise last week, make a program that takes the words you input and saves them in the words.txt file. The difference is that this time there may be several words on the input line, not just one. The output is still one word per output line."
   ]
  },
  {
   "cell_type": "code",
   "execution_count": 1,
   "id": "ac7469c3",
   "metadata": {},
   "outputs": [
    {
     "name": "stdout",
     "output_type": "stream",
     "text": [
      "Enter a word or more (STOP to exit): hakuna matata\n",
      "Enter a word or more (STOP to exit): what a wonderful phrase\n",
      "Enter a word or more (STOP to exit): hakuna matata\n",
      "Enter a word or more (STOP to exit): it means no worries\n",
      "Enter a word or more (STOP to exit): for the rest of your days\n",
      "Enter a word or more (STOP to exit): STOP\n"
     ]
    }
   ],
   "source": [
    "# pseudo code\n",
    "\"\"\"\n",
    "In the situation where there are several words on the input line.\n",
    "we can use split.\n",
    "\n",
    "Followed by a for loop, to append each word to the list\n",
    "\n",
    "initiate an empty list\n",
    "prompt user to input\n",
    "    append to empty list the input variable .split().\n",
    "    exit if user entered stop.\n",
    "\n",
    "with open(\"words.txt\", \"w\") as outfile:\n",
    "    for item in empty list:\n",
    "        outfile.write(item)\n",
    "\n",
    "take a loop at the output file to check it\n",
    "\"\"\"\n",
    "# code\n",
    "words_list = []\n",
    "while True:\n",
    "    words = input(\"Enter a word or more (STOP to exit): \")\n",
    "    if words == \"STOP\":\n",
    "        break\n",
    "    else:\n",
    "        words = words.split()\n",
    "        for word in words:\n",
    "            words_list.append(word)\n",
    "\n",
    "with open(\"words.txt\", \"w\") as outfile:\n",
    "    for item in words_list:\n",
    "        outfile.write(item+\"\\n\")"
   ]
  },
  {
   "cell_type": "markdown",
   "id": "7eb873c6",
   "metadata": {},
   "source": [
    "2. Make a program that reads all the words in the file words.txt into an list. First the words must be sorted alphabetically, then the list should be reversed (the first word shall be the last and vice versa), finally the resulting list should be written in words.txt - one word per line - the file is being overwritten."
   ]
  },
  {
   "cell_type": "code",
   "execution_count": 2,
   "id": "7d8379eb",
   "metadata": {},
   "outputs": [],
   "source": [
    "# pseudo code\n",
    "\"\"\"\n",
    "# continue here -> readlines might not be the best idea, maybe just line by line.\n",
    "read the words into a list\n",
    "use sort to sort the list you made\n",
    "use reserve to reverse the content of the list\n",
    "write out the list into words.txt\n",
    "check to see if the result is correct\n",
    "\"\"\"\n",
    "# code\n",
    "\n",
    "# initiate empty list\n",
    "words = []\n",
    "# read file into list\n",
    "with open(\"words.txt\", \"r\") as infile:\n",
    "    for line in infile:\n",
    "        words.append(line.strip())    # use strip to remove \\n at the end of each word.\n",
    "# sort the list in place\n",
    "words.sort()\n",
    "# reverse the content of the list in place\n",
    "words.reverse()\n",
    "# write out the list into words.txt\n",
    "with open(\"words.txt\", \"w\") as outfile:\n",
    "    for word in words:\n",
    "        outfile.write(word+\"\\n\")"
   ]
  },
  {
   "cell_type": "markdown",
   "id": "442d1530",
   "metadata": {},
   "source": [
    "3\\. After having looked at the cleaned accession numbers in clean5.acc, you will have seen that the accession numbers are sorted. This means that you can use the much more powerful binary search method when searching for accession numbers. Repeat exercise 3 from last week, but this time use binary search instead of the linear search you did then. See what Wikipedia has to say about binary search. Binary search as a method is well described in the solution to the \"guess a number\" exercise."
   ]
  },
  {
   "cell_type": "code",
   "execution_count": 3,
   "id": "9c5ebd13",
   "metadata": {},
   "outputs": [],
   "source": [
    "# have been using \"in\" method since previous question."
   ]
  },
  {
   "cell_type": "markdown",
   "id": "d710045d",
   "metadata": {},
   "source": [
    "4\\. Calculate the three sums of the three columns in one reading of the file ex1.dat using split to separate the columns."
   ]
  },
  {
   "cell_type": "code",
   "execution_count": 4,
   "id": "79776fba",
   "metadata": {},
   "outputs": [
    {
     "name": "stdout",
     "output_type": "stream",
     "text": [
      "-129.5218\n"
     ]
    }
   ],
   "source": [
    "# pseudo code\n",
    "\"\"\"\n",
    "initiate an empty list\n",
    "\n",
    "read the file\n",
    "    for each line of the file, use split to separate the columns\n",
    "    append this list you made to the empty list.\n",
    "\n",
    "initiate a variable at value 0\n",
    "for each number in the list\n",
    "    add this number to the variable\n",
    "\n",
    "display the sum, format if needed.\n",
    "\n",
    "when writing the code realised that it was possible to do both in one go:\n",
    "initiate a sum variable at zero.\n",
    "open the file\n",
    "    for line in the file\n",
    "        for number in the line.split():    # i.e. for number in the list made from that line.\n",
    "            sum_variable += float(number)\n",
    "display the sum, format if needed.\n",
    "\n",
    "\"\"\"\n",
    "# code\n",
    "numbers_sum = 0\n",
    "with open(\"ex1.dat\", \"r\") as infile:\n",
    "    for line in infile:\n",
    "        for number in line.split():\n",
    "            numbers_sum+=float(number)\n",
    "print(\"{:.4f}\".format(numbers_sum))"
   ]
  },
  {
   "cell_type": "markdown",
   "id": "37552beb",
   "metadata": {},
   "source": [
    "5\\. Improve on the previous exercise by making a program that calculates the sum of all columns in the file, no matter how many columns there are. Each column should be summed individually. You can assume that each row (line) has the same number of columns in the file."
   ]
  },
  {
   "cell_type": "code",
   "execution_count": 7,
   "id": "b660d41a",
   "metadata": {},
   "outputs": [
    {
     "name": "stdout",
     "output_type": "stream",
     "text": [
      "Enter a filename, such as ex1.dat: ex1.dat\n",
      "\n",
      "Below are the sums of each column in the file:\n",
      "[2.9766, 1.5059, -1.1219]\n"
     ]
    }
   ],
   "source": [
    "# pseudo code\n",
    "\"\"\"\n",
    "prompt user to enter filename, will be using ex1.dat as example file.\n",
    "open file\n",
    "    for line in file:\n",
    "        split the line into a inputfile_list.\n",
    "        initiate a list made of zeros of containing as many zeros as len of list.\n",
    "        for position in range(len(inputfile_list)):\n",
    "            convert the inputfile values to floats\n",
    "            zero_list[position] += inputfile_list[position]\n",
    "display zero_list, which will have the sum of each column, as one row.\n",
    "\"\"\"\n",
    "# code\n",
    "filename = input(\"Enter a filename, such as ex1.dat: \")\n",
    "with open (f\"{filename}\", \"r\") as infile:\n",
    "    for line in infile:\n",
    "        # now the seperate columns become seperate items in one list\n",
    "        line_as_list = line.split()\n",
    "        # intiate a list made of zeros of equal length to infile's list\n",
    "        zero_list = [0] * len(line_as_list)\n",
    "        for position in range(len(line_as_list)):\n",
    "            zero_list[position] += float(line_as_list[position])\n",
    "print(\"\\nBelow are the sums of each column in the file:\")\n",
    "print(zero_list)"
   ]
  },
  {
   "cell_type": "markdown",
   "id": "f5a6d09c",
   "metadata": {},
   "source": [
    "6\\. Make a Python program that can select specific columns from a column based (tab separated) file and save them in a new file. It should select the columns that you specify in the order you specify. Ask for input and output file names and column numbers (3 questions, example \"ex1.dat\", \"2col.acc\" & \"3 1\"). The program should work with any number of columns in the input file."
   ]
  },
  {
   "cell_type": "code",
   "execution_count": 9,
   "id": "9783b909",
   "metadata": {},
   "outputs": [
    {
     "name": "stdout",
     "output_type": "stream",
     "text": [
      "Enter the input file name, for example, ex1.dat: ex1.dat\n",
      "Enter the output file name, for example, 2col.acc: 2col.acc\n",
      "Enter the column numbers you want to extract, separate each number by a space: 0 2\n"
     ]
    }
   ],
   "source": [
    "# pseudocode\n",
    "\"\"\"\n",
    "can sepcify the column to select by the index number\n",
    "\n",
    "1. prompt the user for the input and output file names (use comma separation to save the vars.)\n",
    "2. prompt the user for the columns\n",
    "3. store value of wanted columns into a list\n",
    "4. call the function for extracting cols\n",
    "    the function will write the specified cols from the infile to the outfile.\n",
    "\n",
    "#!! continue here\n",
    "# can't use pop really because we need to column order the way the user specified it.\n",
    "with open the speficied input file:\n",
    "    for line in inputfile:\n",
    "        line_as_list = line.split()\n",
    "        for wanted_column in wanted_columns:\n",
    "            output.append(line_as_list[wanted_column])\n",
    "\n",
    "tried the above a couple times and decided on writing a function that has two with opens:\n",
    "with open the output file for writing\n",
    "    with open the input file for reading\n",
    "        for line in input file\n",
    "            make the line into a list by using .split()\n",
    "                for col in list of columns\n",
    "                    write into the output file, the value of the line at this columns, with \"\\t\", to separate each value.\n",
    "                write out a new line (this new line is part of the for line in file loop so that the next set of columns will be in the correct position).\n",
    "\n",
    "\n",
    "\"\"\"\n",
    "# code\n",
    "def main():\n",
    "    usr_infile = input(\"Enter the input file name, for example, ex1.dat: \")\n",
    "    usr_outfile = input(\"Enter the output file name, for example, 2col.acc: \")\n",
    "    # save usr_col as a list to begin with\n",
    "    usr_cols = input(\"Enter the column numbers you want to extract, separate each number by a space: \").split()\n",
    "    # convert each col number from a str into a int\n",
    "    for i in range(len(usr_cols)):\n",
    "        usr_cols[i] = int(usr_cols[i])\n",
    "    # calling function to extract cols\n",
    "    extract_cols(usr_infile, usr_outfile, usr_cols)\n",
    "\n",
    "# function to extract cols\n",
    "# writes out the specified cols from the infile to the outfile.\n",
    "def extract_cols(infile, outfile, cols):\n",
    "    with open(f\"{outfile}\", \"w\") as outfile:\n",
    "        with open(f\"{infile}\", \"r\") as infile:\n",
    "            for line in infile:\n",
    "                line = line.split()\n",
    "                for col in cols:\n",
    "                    outfile.write(line[col] + \"\\t\")\n",
    "                outfile.write(\"\\n\")    # this one is part of the \"for line in infile\" loop.\n",
    "\n",
    "\n",
    "main()"
   ]
  }
 ],
 "metadata": {
  "kernelspec": {
   "display_name": "Python 3 (ipykernel)",
   "language": "python",
   "name": "python3"
  },
  "language_info": {
   "codemirror_mode": {
    "name": "ipython",
    "version": 3
   },
   "file_extension": ".py",
   "mimetype": "text/x-python",
   "name": "python",
   "nbconvert_exporter": "python",
   "pygments_lexer": "ipython3",
   "version": "3.9.7"
  }
 },
 "nbformat": 4,
 "nbformat_minor": 5
}
